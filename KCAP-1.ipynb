{
 "cells": [
  {
   "cell_type": "markdown",
   "id": "420c91c1",
   "metadata": {},
   "source": [
    "# Gaia Data Analysis with astroquery"
   ]
  },
  {
   "cell_type": "markdown",
   "id": "9625b9b8",
   "metadata": {},
   "source": [
    "Importing important packages"
   ]
  },
  {
   "cell_type": "code",
   "execution_count": 1,
   "id": "a32109b0",
   "metadata": {},
   "outputs": [],
   "source": [
    "import astropy.units as u\n",
    "from astropy.coordinates.sky_coordinate import SkyCoord\n",
    "from astropy.units import Quantity\n",
    "from astroquery.gaia import Gaia"
   ]
  },
  {
   "cell_type": "markdown",
   "id": "a4b4c638",
   "metadata": {},
   "source": [
    "We generally do two types of search query: rectangular search and circular search. In Rectangular search we basically search for the data in a rectangular region of space and in circular search, we does the same thing in a circular region.\n",
    "\n",
    "Gaia needs RA and DEC (remember in degrees) for searching. Suppose you want to search in rectagular region around Pleiades, then we first need to find the coordinates of rectangular that can be done in the following manner:"
   ]
  },
  {
   "cell_type": "code",
   "execution_count": 2,
   "id": "ece11f58",
   "metadata": {},
   "outputs": [
    {
     "name": "stdout",
     "output_type": "stream",
     "text": [
      "56.00083333333333 57.200833333333335\n",
      "23.51388888888889 24.713888888888892\n"
     ]
    }
   ],
   "source": [
    "s = '03 46 24.2 +24 06 50'\n",
    "c = [float(i) for i in s.split()]\n",
    "ra = c[0]*15 + c[1]/4 + c[2]/240       # every hour, Earth rotates by 15 degrees. c[0] = hours, c[1] = minutes, c[2] = seconds\n",
    "if c[3] >= 0:\n",
    "    dec = c[3] + c[4]/60 + c[5]/3600\n",
    "else:\n",
    "    dec = c[3] - c[4]/60 - c[5]/3600\n",
    "    \n",
    "print(ra - 0.6, ra + 0.6)\n",
    "print(dec - 0.6, dec + 0.6)"
   ]
  },
  {
   "cell_type": "markdown",
   "id": "f8b9cb98",
   "metadata": {},
   "source": [
    "To retrieve the data, let's start by crafting an ADQL query, similar to SQL. This query should consist of four essential components. First, define the number of stars you require. Second, specify the parameters you wish to retrieve. Third, set the spatial region of interest. Finally, include any additional conditions you'd like to apply within the query.\n",
    "\n",
    "The following code is the rectangular search"
   ]
  },
  {
   "cell_type": "code",
   "execution_count": 3,
   "id": "cfc13bba",
   "metadata": {},
   "outputs": [
    {
     "name": "stdout",
     "output_type": "stream",
     "text": [
      "INFO: Query finished. [astroquery.utils.tap.core]\n",
      "2933\n"
     ]
    }
   ],
   "source": [
    "query = '''\n",
    "SELECT top 10000\n",
    "ra, dec, parallax, phot_g_mean_mag, pm,pmra,pmdec\n",
    "FROM gaiadr3.gaia_source\n",
    "WHERE ra > 56 AND ra < 57.2\n",
    "AND dec > 23.51 AND dec < 24.71\n",
    "AND parallax IS NOT NULL\n",
    "AND parallax > 1\n",
    "ORDER BY phot_g_mean_mag\n",
    "'''\n",
    "\n",
    "job = Gaia.launch_job_async(query)\n",
    "r = job.get_results()\n",
    "print(len(r))"
   ]
  }
 ],
 "metadata": {
  "kernelspec": {
   "display_name": "Python 3 (ipykernel)",
   "language": "python",
   "name": "python3"
  },
  "language_info": {
   "codemirror_mode": {
    "name": "ipython",
    "version": 3
   },
   "file_extension": ".py",
   "mimetype": "text/x-python",
   "name": "python",
   "nbconvert_exporter": "python",
   "pygments_lexer": "ipython3",
   "version": "3.11.3"
  }
 },
 "nbformat": 4,
 "nbformat_minor": 5
}
